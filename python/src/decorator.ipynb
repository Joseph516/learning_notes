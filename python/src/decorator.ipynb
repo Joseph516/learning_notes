{
 "cells": [
  {
   "cell_type": "code",
   "execution_count": 1,
   "source": [
    "def func(message):\n",
    "    print(f\"Got message: {message}\")\n",
    "\n",
    "send_message = func # 不能是func()\n",
    "send_message(\"Hello world\")"
   ],
   "outputs": [
    {
     "output_type": "stream",
     "name": "stdout",
     "text": [
      "Got message: Hello world\n"
     ]
    }
   ],
   "metadata": {}
  },
  {
   "cell_type": "code",
   "execution_count": 2,
   "source": [
    "def get_message(message):\n",
    "    return \"Got message: \" + message\n",
    "\n",
    "def root_call(func, message):\n",
    "    print(func(message))\n",
    "\n",
    "root_call(get_message, \"hello world\")"
   ],
   "outputs": [
    {
     "output_type": "stream",
     "name": "stdout",
     "text": [
      "Got message: hello world\n"
     ]
    }
   ],
   "metadata": {}
  },
  {
   "cell_type": "code",
   "execution_count": 3,
   "source": [
    "def func_closure():\n",
    "    def get_message(message):\n",
    "        print(\"Got message: \" + message)\n",
    "    return get_message\n",
    "\n",
    "send_message = func_closure()\n",
    "send_message(\"hello world\")"
   ],
   "outputs": [
    {
     "output_type": "stream",
     "name": "stdout",
     "text": [
      "Got message: hello world\n"
     ]
    }
   ],
   "metadata": {}
  },
  {
   "cell_type": "code",
   "execution_count": 4,
   "source": [
    "# 简单装饰器\n",
    "def my_decrator(func):\n",
    "    def wrapper():\n",
    "        print(\"My decrator.\")\n",
    "        func()\n",
    "    return wrapper\n",
    "\n",
    "def greet():\n",
    "    print(\"hello world\")\n",
    "\n",
    "greet = my_decrator(greet)\n",
    "greet()"
   ],
   "outputs": [
    {
     "output_type": "stream",
     "name": "stdout",
     "text": [
      "My decrator.\n",
      "hello world\n"
     ]
    }
   ],
   "metadata": {}
  },
  {
   "cell_type": "code",
   "execution_count": 5,
   "source": [
    "# 简单装饰器\n",
    "def my_decrator(func):\n",
    "    def wrapper():\n",
    "        print(\"My decrator.\")\n",
    "        func()\n",
    "    return wrapper\n",
    "\n",
    "@ my_decrator\n",
    "def greet():\n",
    "    print(\"hello world\")\n",
    "\n",
    "greet()"
   ],
   "outputs": [
    {
     "output_type": "stream",
     "name": "stdout",
     "text": [
      "My decrator.\n",
      "hello world\n"
     ]
    }
   ],
   "metadata": {}
  },
  {
   "cell_type": "code",
   "execution_count": 6,
   "source": [
    "# 带参数装饰器\n",
    "import functools\n",
    "\n",
    "\n",
    "def my_decrator(func):\n",
    "    @functools.wraps(func)\n",
    "    def wrapper(message):\n",
    "        print(\"My decrator.\")\n",
    "        func(message)\n",
    "    return wrapper\n",
    "\n",
    "\n",
    "@ my_decrator\n",
    "def greet(message):\n",
    "    print(f\"hello {message}\")\n",
    "\n",
    "\n",
    "greet(\"世界\")\n",
    "greet.__name__\n"
   ],
   "outputs": [
    {
     "output_type": "stream",
     "name": "stdout",
     "text": [
      "My decrator.\n",
      "hello 世界\n"
     ]
    },
    {
     "output_type": "execute_result",
     "data": {
      "text/plain": [
       "'greet'"
      ]
     },
     "metadata": {},
     "execution_count": 6
    }
   ],
   "metadata": {}
  },
  {
   "cell_type": "code",
   "execution_count": 7,
   "source": [
    "# 多参数装饰器\n",
    "import functools\n",
    "\n",
    "def my_decrator(func):\n",
    "    @functools.wraps(func)\n",
    "    def wrapper(*args, **kwargs):\n",
    "        print(\"My decrator.\")\n",
    "        func(*args, **kwargs)\n",
    "    return wrapper\n"
   ],
   "outputs": [],
   "metadata": {}
  },
  {
   "cell_type": "code",
   "execution_count": 8,
   "source": [
    "# 装饰器嵌套\n",
    "import functools\n",
    "\n",
    "def my_decrator1(func):\n",
    "    @functools.wraps(func)\n",
    "    def wrapper(*args, **kwargs):\n",
    "        print(\"my_decrator1\")\n",
    "        func(*args, **kwargs)\n",
    "    return wrapper\n",
    "\n",
    "def my_decrator2(func):\n",
    "    @functools.wraps(func)\n",
    "    def wrapper(*args, **kwargs):\n",
    "        print(\"my_decrator2\")\n",
    "        func(*args, **kwargs)\n",
    "    return wrapper\n",
    "\n",
    "@my_decrator1\n",
    "@my_decrator2\n",
    "def greet(message):\n",
    "    print(message)\n",
    "\n",
    "greet('Hello world')"
   ],
   "outputs": [
    {
     "output_type": "stream",
     "name": "stdout",
     "text": [
      "my_decrator1\n",
      "my_decrator2\n",
      "Hello world\n"
     ]
    }
   ],
   "metadata": {}
  },
  {
   "cell_type": "code",
   "execution_count": null,
   "source": [],
   "outputs": [],
   "metadata": {}
  }
 ],
 "metadata": {
  "kernelspec": {
   "name": "python3",
   "display_name": "Python 3.8.5 64-bit ('data_mining': conda)"
  },
  "language_info": {
   "codemirror_mode": {
    "name": "ipython",
    "version": 3
   },
   "file_extension": ".py",
   "mimetype": "text/x-python",
   "name": "python",
   "nbconvert_exporter": "python",
   "pygments_lexer": "ipython3",
   "version": "3.8.5"
  },
  "interpreter": {
   "hash": "1d52d8f1c1fb1bd7e66e0209578e4bd303dae783370e433dfe2fe54111644ef7"
  }
 },
 "nbformat": 4,
 "nbformat_minor": 4
}